{
 "cells": [
  {
   "cell_type": "code",
   "execution_count": 1,
   "metadata": {},
   "outputs": [],
   "source": [
    "#Problem 2: Route planning in occupancy grid maps using A* - test code with a 5x5 cell"
   ]
  },
  {
   "cell_type": "code",
   "execution_count": 2,
   "metadata": {},
   "outputs": [],
   "source": [
    "from queue import PriorityQueue\n",
    "from tqdm import tqdm\n",
    "import matplotlib.pyplot as plt\n",
    "from PIL import Image\n",
    "import numpy as np"
   ]
  },
  {
   "cell_type": "code",
   "execution_count": 3,
   "metadata": {},
   "outputs": [
    {
     "data": {
      "text/plain": [
       "array([[0, 0, 0, ..., 0, 0, 0],\n",
       "       [0, 0, 0, ..., 0, 0, 0],\n",
       "       [0, 0, 0, ..., 0, 0, 0],\n",
       "       ...,\n",
       "       [0, 0, 0, ..., 0, 0, 0],\n",
       "       [0, 0, 0, ..., 0, 0, 0],\n",
       "       [0, 0, 0, ..., 0, 0, 0]])"
      ]
     },
     "execution_count": 3,
     "metadata": {},
     "output_type": "execute_result"
    }
   ],
   "source": [
    "# Read image from disk using PIL\n",
    "occupancy_map_img = Image.open('../gridmaps/occupancy_map.png')\n",
    "\n",
    "# Interpret this image as a numpy array, and threshold its values to→ {0,1}\n",
    "occupancy_grid = (np.asarray(occupancy_map_img) > 0).astype(int)\n",
    "occupancy_grid"
   ]
  },
  {
   "cell_type": "code",
   "execution_count": 4,
   "metadata": {},
   "outputs": [
    {
     "name": "stdout",
     "output_type": "stream",
     "text": [
      "<class 'numpy.ndarray'>\n"
     ]
    },
    {
     "data": {
      "text/plain": [
       "(array([ 31,  31,  31, ..., 676, 676, 676]),\n",
       " array([515, 517, 518, ...,  99, 100, 101]))"
      ]
     },
     "execution_count": 4,
     "metadata": {},
     "output_type": "execute_result"
    }
   ],
   "source": [
    "#Test 1 - check if occupancy values are being read properly\n",
    "print(type(occupancy_grid))\n",
    "occ = occupancy_grid>0\n",
    "np.where(occ == True)"
   ]
  },
  {
   "cell_type": "code",
   "execution_count": 5,
   "metadata": {},
   "outputs": [
    {
     "data": {
      "text/plain": [
       "array([[1, 1, 0, 0, 1],\n",
       "       [1, 1, 0, 1, 1],\n",
       "       [1, 0, 0, 1, 1],\n",
       "       [1, 1, 1, 1, 1],\n",
       "       [1, 1, 1, 1, 1],\n",
       "       [1, 1, 1, 1, 1]])"
      ]
     },
     "execution_count": 5,
     "metadata": {},
     "output_type": "execute_result"
    }
   ],
   "source": [
    "# to test - sample space\n",
    "# occupancy_grid = ([0,1,0,0,0], [0,1,0,0,0], [0,1,0,0,0], [0,1,0,0,0], [0,0,0,0,0])\n",
    "occupancy_grid = ([1,1,0,0,1],[1,1,0,1,1],[1,0,0,1,1],[1,1,1,1,1],[1,1,1,1,1], [1,1,1,1,1])\n",
    "occupancy_grid = np.array(occupancy_grid)\n",
    "occupancy_grid"
   ]
  },
  {
   "cell_type": "code",
   "execution_count": 6,
   "metadata": {},
   "outputs": [],
   "source": [
    "def euclidean_h(v1, v2):\n",
    "    \"\"\"\n",
    "    This function is used to calculate the eulcidean distance between 2 points.\n",
    "    It is used as both the eedge weight and the heuristic h\n",
    "    \"\"\"\n",
    "    euclidean_distance = np.linalg.norm(v1 - v2)\n",
    "    return euclidean_distance\n"
   ]
  },
  {
   "cell_type": "code",
   "execution_count": 7,
   "metadata": {},
   "outputs": [],
   "source": [
    "def RecoverPath(start, goal, pred):\n",
    "    \"\"\"\n",
    "    This function takes as input the start state s, goal state g, and\n",
    "    populated predecessor map pred, and returns the sequence of vertices on the optimal\n",
    "    path from s to g.\n",
    "    \n",
    "    insert - insert in numpy appends to the top of the list so that we dont have to reverse later. \n",
    "    we need a path from start to goal. just append gives from goal to start. \n",
    "    so we insert at the beginning of the list using insert. \n",
    "    \"\"\"\n",
    "    path = []\n",
    "    current = goal\n",
    "    while current != start:\n",
    "        path.insert(0, current)\n",
    "        current = pred[tuple(current)]\n",
    "    path.insert(0, start)\n",
    "    return path\n",
    "    \n",
    "    #raise NotImplementedError()\n"
   ]
  },
  {
   "cell_type": "code",
   "execution_count": 8,
   "metadata": {},
   "outputs": [],
   "source": [
    "def show_path_occ(grid, plan):\n",
    "    \"\"\"\n",
    "    This function helps display our A* plan on the occupancy grid map\n",
    "    \"\"\"\n",
    "    \n",
    "    plt.imshow(occupancy_grid, cmap = 'gray')\n",
    "    plt.plot([p[1] for p in plan], [p[0] for p in plan], 'r')\n",
    "    plt.show()"
   ]
  },
  {
   "cell_type": "code",
   "execution_count": 9,
   "metadata": {},
   "outputs": [],
   "source": [
    "def Neighbours(vertex, grid):\n",
    "    \n",
    "    \"\"\"\n",
    "    This function is used to estimate the neighbours of a vertex and \n",
    "    we explore them only if they are not occupied.\n",
    "    \"\"\"\n",
    "    \n",
    "    x = vertex[0]\n",
    "    y = vertex[1]\n",
    "    neighbours = []\n",
    "    rows, cols = np.shape(grid)\n",
    "   \n",
    "    if (x > 0):\n",
    "        if grid[x - 1][y] != 0:\n",
    "            neighbours.append((x - 1, y)) #left\n",
    "    if (x < rows - 1):\n",
    "        if grid[x + 1][y] != 0:\n",
    "            neighbours.append((x + 1, y)) #right\n",
    "    if (y > 0):\n",
    "        if grid[x][y - 1] != 0:\n",
    "            neighbours.append((x, y - 1))  #up\n",
    "    if (y < cols - 1):\n",
    "        if grid[x][y + 1] != 0:\n",
    "            neighbours.append((x, y + 1)) #down\n",
    "    if (x > 0 and y > 0):\n",
    "        if grid[x - 1][y - 1] != 0:\n",
    "            neighbours.append((x - 1, y - 1))   #bottom left\n",
    "    if (x < rows - 1 and y > 0):\n",
    "        if grid[x + 1][y - 1] != 0:\n",
    "            neighbours.append((x + 1, y - 1))  #top left\n",
    "    if (x > 0 and y < cols - 1):\n",
    "        if grid[x - 1][y + 1] != 0:\n",
    "            neighbours.append((x - 1, y + 1))   #botton righ\n",
    "    if x < rows - 1 and y < cols - 1: \n",
    "        if grid[x + 1][y + 1] != 0:\n",
    "            neighbours.append((x + 1, y + 1))  #top right\n",
    "    \n",
    "    print(\"Neighbours to \", x, \",\",  y, \" are \", neighbours)\n",
    "    \n",
    "    return neighbours\n",
    "    #raise NotImplementedError()\n",
    "\n"
   ]
  },
  {
   "cell_type": "code",
   "execution_count": 10,
   "metadata": {},
   "outputs": [],
   "source": [
    "def A_Star_Search(V, s, g, N, w ,h):\n",
    "    \"\"\"\n",
    "    This is the main function that finds a least-cost path from start to goal if one exists\n",
    "    to remember:\n",
    "    cost of node = cost from start to node + cost from node to goal\n",
    "    \n",
    "    \"\"\"\n",
    "    \n",
    "    #initialization\n",
    "    \n",
    "    CostTo = {}\n",
    "    EstTotalCost = {}\n",
    "    for v in V:\n",
    "        CostTo[v] = float(\"inf\")\n",
    "        EstTotalCost[v] = float(\"inf\")\n",
    "    \n",
    "    #cost to reach the starting index is 0\n",
    "    CostTo[s] = 0\n",
    "    \n",
    "    #estimated cost to go from s to g\n",
    "    EstTotalCost[s] = h(np.array(start), np.array(goal))\n",
    "\n",
    "    #define the queue and Insert start vertex s with value h(s, g)\n",
    "    Q = PriorityQueue()\n",
    "    Q.put((EstTotalCost[s], start))\n",
    "\n",
    "    pred = {}\n",
    "    \n",
    "    while not(Q.empty()):\n",
    "        \n",
    "        #Remove least-value element from Q\n",
    "        vertex = Q.get()\n",
    "\n",
    "        #We have reached the goal!\n",
    "        if vertex[1] == goal:\n",
    "            #Reconstruct and return optimal path\n",
    "            recovered_path = RecoverPath(start, goal, pred)\n",
    "            return recovered_path\n",
    "        \n",
    "        #else For each of v’s neighbors\n",
    "        for neighbour in Neighbours(vertex[1], occupancy_grid):\n",
    "                \n",
    "                #Cost of path to reach neighbour through v\n",
    "                pvi = CostTo[vertex[1]] + euclidean_h(np.array(vertex[1]), np.array(neighbour))\n",
    "\n",
    "                if pvi < CostTo[neighbour]:\n",
    "                    #The path to neighbour through v is better than the previously-known best path to neighbour\n",
    "                    #so record it as the new best path to i\n",
    "                    \n",
    "                    pred[neighbour] = vertex[1]\n",
    "                    CostTo[neighbour] = pvi\n",
    "                    EstTotalCost[neighbour] = pvi + euclidean_h(np.array(neighbour),np.array(goal))\n",
    "                    \n",
    "                    if neighbour in Q.queue:\n",
    "                        #Update the neighbour’s priority\n",
    "                        Q.queue.remove(neighbour)\n",
    "                        Q.put((EstTotalCost[neighbour], neighbour))\n",
    "                    else:\n",
    "                        Q.put((EstTotalCost[neighbour], neighbour))\n",
    "                        \n",
    "                        \n",
    "    #Return empty set: there is no path to goal                   \n",
    "    return None\n"
   ]
  },
  {
   "cell_type": "code",
   "execution_count": 11,
   "metadata": {},
   "outputs": [
    {
     "name": "stdout",
     "output_type": "stream",
     "text": [
      "Neighbours to  0 , 0  are  [(1, 0), (0, 1), (1, 1)]\n",
      "Neighbours to  1 , 1  are  [(0, 1), (1, 0), (0, 0), (2, 0)]\n",
      "Neighbours to  0 , 1  are  [(1, 1), (0, 0), (1, 0)]\n",
      "Neighbours to  1 , 0  are  [(0, 0), (2, 0), (1, 1), (0, 1)]\n",
      "Neighbours to  2 , 0  are  [(1, 0), (3, 0), (1, 1), (3, 1)]\n",
      "Neighbours to  3 , 1  are  [(4, 1), (3, 0), (3, 2), (2, 0), (4, 0), (4, 2)]\n",
      "Neighbours to  3 , 2  are  [(4, 2), (3, 1), (3, 3), (4, 1), (2, 3), (4, 3)]\n",
      "Neighbours to  3 , 3  are  [(2, 3), (4, 3), (3, 2), (3, 4), (4, 2), (2, 4), (4, 4)]\n",
      "Neighbours to  4 , 2  are  [(3, 2), (5, 2), (4, 1), (4, 3), (3, 1), (5, 1), (3, 3), (5, 3)]\n",
      "Neighbours to  4 , 3  are  [(3, 3), (5, 3), (4, 2), (4, 4), (3, 2), (5, 2), (3, 4), (5, 4)]\n"
     ]
    }
   ],
   "source": [
    "# find shortest path in the occupancy grid from the starting point s = (635, 140) to the goal g = (350, 400)\n",
    "\n",
    "rows, cols = occupancy_grid.shape\n",
    "V = set()\n",
    "for i in range(rows):\n",
    "    for j in range(cols):\n",
    "        V.add((i,j))\n",
    "start = (0, 0)\n",
    "goal = (4, 4)\n",
    "plan = A_Star_Search(V, start, goal, Neighbours, euclidean_h, euclidean_h)"
   ]
  },
  {
   "cell_type": "code",
   "execution_count": 12,
   "metadata": {},
   "outputs": [
    {
     "data": {
      "text/plain": [
       "7"
      ]
     },
     "execution_count": 12,
     "metadata": {},
     "output_type": "execute_result"
    }
   ],
   "source": [
    "#length of the path \n",
    "len(plan)"
   ]
  },
  {
   "cell_type": "code",
   "execution_count": 13,
   "metadata": {},
   "outputs": [
    {
     "data": {
      "text/plain": [
       "6.82842712474619"
      ]
     },
     "execution_count": 13,
     "metadata": {},
     "output_type": "execute_result"
    }
   ],
   "source": [
    "distance = np.sum(np.sqrt(np.sum(np.diff(plan, axis=0)**2, axis=1)))\n",
    "distance"
   ]
  },
  {
   "cell_type": "code",
   "execution_count": 14,
   "metadata": {
    "scrolled": true
   },
   "outputs": [
    {
     "data": {
      "image/png": "[encoded data removed]",
      "text/plain": [
       "<Figure size 640x480 with 1 Axes>"
      ]
     },
     "metadata": {},
     "output_type": "display_data"
    }
   ],
   "source": [
    "show_path_occ(occupancy_grid, plan)"
   ]
  },
  {
   "cell_type": "code",
   "execution_count": null,
   "metadata": {},
   "outputs": [],
   "source": []
  }
 ],
 "metadata": {
  "kernelspec": {
   "display_name": "Python 3 (ipykernel)",
   "language": "python",
   "name": "python3"
  },
  "language_info": {
   "codemirror_mode": {
    "name": "ipython",
    "version": 3
   },
   "file_extension": ".py",
   "mimetype": "text/x-python",
   "name": "python",
   "nbconvert_exporter": "python",
   "pygments_lexer": "ipython3",
   "version": "3.11.3"
  }
 },
 "nbformat": 4,
 "nbformat_minor": 2
}
